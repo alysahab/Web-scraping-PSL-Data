{
 "cells": [
  {
   "cell_type": "markdown",
   "id": "1f8448e8",
   "metadata": {
    "toc": true
   },
   "source": [
    "<h1>Table of Contents<span class=\"tocSkip\"></span></h1>\n",
    "<div class=\"toc\"><ul class=\"toc-item\"></ul></div>"
   ]
  },
  {
   "cell_type": "code",
   "execution_count": 10,
   "id": "d1498ecf",
   "metadata": {},
   "outputs": [],
   "source": [
    "import pandas as pd\n",
    "import numpy as np\n",
    "from bs4 import BeautifulSoup"
   ]
  },
  {
   "cell_type": "code",
   "execution_count": 11,
   "id": "6c8dac79",
   "metadata": {},
   "outputs": [],
   "source": [
    "# path to load the html content of players\n",
    "\n",
    "path = r\"C:\\Users\\aly98\\Desktop\\res DSMP\\web scraping sellenium\\psl project\\Html extraction selenium\\Players_info.html\"\n",
    "with open(path,'r') as f:\n",
    "    html = f.read()"
   ]
  },
  {
   "cell_type": "code",
   "execution_count": 12,
   "id": "c0a1c50e",
   "metadata": {},
   "outputs": [],
   "source": [
    "soup = BeautifulSoup(html, 'html.parser')"
   ]
  },
  {
   "cell_type": "code",
   "execution_count": 13,
   "id": "3dd72dc1",
   "metadata": {},
   "outputs": [],
   "source": [
    "name_tag = soup.find_all('div', class_= 'ds-flex ds-space-x-2')\n",
    "position_tag = soup.find_all('p', class_= 'ds-text-tight-s ds-font-regular ds-mb-2 ds-mt-1')\n",
    "style_tag = soup.find_all('div', class_ = 'ds-justify-between ds-text-typo-mid3')\n",
    "\n",
    "\n",
    "n = len(name_tag)\n",
    "names = []\n",
    "position = []\n",
    "batting_style = []\n",
    "bowling_style = []\n",
    "\n",
    "for i in range(n):\n",
    "    if name_tag[i].text not in names:\n",
    "        names.append(name_tag[i].text)\n",
    "        position.append(position_tag[i].text)\n",
    "        batting_style.append(style_tag[i].find_all('div')[1].text)\n",
    "        try:\n",
    "            bowling_style.append(style_tag[i].find_all('div')[2].text)\n",
    "        except:\n",
    "            bowling_style.append(np.nan)\n",
    "        \n",
    "\n",
    "    "
   ]
  },
  {
   "cell_type": "code",
   "execution_count": 14,
   "id": "4d45c79a",
   "metadata": {},
   "outputs": [],
   "source": [
    "df = pd.DataFrame({'names':names,'position':position,'batting_style':batting_style, 'bowling_style':bowling_style})"
   ]
  },
  {
   "cell_type": "code",
   "execution_count": 15,
   "id": "79c7f4eb",
   "metadata": {},
   "outputs": [
    {
     "data": {
      "text/html": [
       "<div>\n",
       "<style scoped>\n",
       "    .dataframe tbody tr th:only-of-type {\n",
       "        vertical-align: middle;\n",
       "    }\n",
       "\n",
       "    .dataframe tbody tr th {\n",
       "        vertical-align: top;\n",
       "    }\n",
       "\n",
       "    .dataframe thead th {\n",
       "        text-align: right;\n",
       "    }\n",
       "</style>\n",
       "<table border=\"1\" class=\"dataframe\">\n",
       "  <thead>\n",
       "    <tr style=\"text-align: right;\">\n",
       "      <th></th>\n",
       "      <th>names</th>\n",
       "      <th>position</th>\n",
       "      <th>batting_style</th>\n",
       "      <th>bowling_style</th>\n",
       "    </tr>\n",
       "  </thead>\n",
       "  <tbody>\n",
       "    <tr>\n",
       "      <th>0</th>\n",
       "      <td>Asif Ali</td>\n",
       "      <td>Middle order Batter</td>\n",
       "      <td>Batting:Right hand Bat</td>\n",
       "      <td>Bowling:Right arm Offbreak</td>\n",
       "    </tr>\n",
       "    <tr>\n",
       "      <th>1</th>\n",
       "      <td>Ian Bell</td>\n",
       "      <td>Top order Batter</td>\n",
       "      <td>Batting:Right hand Bat</td>\n",
       "      <td>Bowling:Right arm Medium</td>\n",
       "    </tr>\n",
       "    <tr>\n",
       "      <th>2</th>\n",
       "      <td>Cameron Delport</td>\n",
       "      <td>Top order Batter</td>\n",
       "      <td>Batting:Left hand Bat</td>\n",
       "      <td>Bowling:Right arm Medium</td>\n",
       "    </tr>\n",
       "    <tr>\n",
       "      <th>3</th>\n",
       "      <td>Rizwan Hussain</td>\n",
       "      <td>Batter</td>\n",
       "      <td>Batting:Left hand Bat</td>\n",
       "      <td>NaN</td>\n",
       "    </tr>\n",
       "    <tr>\n",
       "      <th>4</th>\n",
       "      <td>Luke Ronchi†</td>\n",
       "      <td>Wicketkeeper Batter</td>\n",
       "      <td>Batting:Right hand Bat</td>\n",
       "      <td>NaN</td>\n",
       "    </tr>\n",
       "  </tbody>\n",
       "</table>\n",
       "</div>"
      ],
      "text/plain": [
       "             names             position           batting_style  \\\n",
       "0         Asif Ali  Middle order Batter  Batting:Right hand Bat   \n",
       "1         Ian Bell     Top order Batter  Batting:Right hand Bat   \n",
       "2  Cameron Delport     Top order Batter   Batting:Left hand Bat   \n",
       "3   Rizwan Hussain               Batter   Batting:Left hand Bat   \n",
       "4     Luke Ronchi†  Wicketkeeper Batter  Batting:Right hand Bat   \n",
       "\n",
       "                bowling_style  \n",
       "0  Bowling:Right arm Offbreak  \n",
       "1    Bowling:Right arm Medium  \n",
       "2    Bowling:Right arm Medium  \n",
       "3                         NaN  \n",
       "4                         NaN  "
      ]
     },
     "execution_count": 15,
     "metadata": {},
     "output_type": "execute_result"
    }
   ],
   "source": [
    "df.head()"
   ]
  },
  {
   "cell_type": "code",
   "execution_count": 16,
   "id": "f17ce61e",
   "metadata": {},
   "outputs": [],
   "source": [
    "df.to_csv('uncleaned_players_info.csv', index=False)"
   ]
  }
 ],
 "metadata": {
  "kernelspec": {
   "display_name": "Python 3 (ipykernel)",
   "language": "python",
   "name": "python3"
  },
  "language_info": {
   "codemirror_mode": {
    "name": "ipython",
    "version": 3
   },
   "file_extension": ".py",
   "mimetype": "text/x-python",
   "name": "python",
   "nbconvert_exporter": "python",
   "pygments_lexer": "ipython3",
   "version": "3.11.7"
  },
  "toc": {
   "base_numbering": 1,
   "nav_menu": {},
   "number_sections": false,
   "sideBar": true,
   "skip_h1_title": true,
   "title_cell": "Table of Contents",
   "title_sidebar": "Contents",
   "toc_cell": true,
   "toc_position": {},
   "toc_section_display": true,
   "toc_window_display": true
  }
 },
 "nbformat": 4,
 "nbformat_minor": 5
}
