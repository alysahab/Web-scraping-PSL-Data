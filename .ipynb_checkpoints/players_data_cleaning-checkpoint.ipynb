{
 "cells": [
  {
   "cell_type": "markdown",
   "id": "94a12666",
   "metadata": {
    "toc": true
   },
   "source": [
    "<h1>Table of Contents<span class=\"tocSkip\"></span></h1>\n",
    "<div class=\"toc\"><ul class=\"toc-item\"><li><span><a href=\"#Data-cleaning-doc\" data-toc-modified-id=\"Data-cleaning-doc-1\">Data cleaning doc</a></span><ul class=\"toc-item\"><li><span><a href=\"#clean-names-column\" data-toc-modified-id=\"clean-names-column-1.1\">clean names column</a></span></li><li><span><a href=\"#clean-position-column\" data-toc-modified-id=\"clean-position-column-1.2\">clean position column</a></span></li><li><span><a href=\"#clean-batting-and-bowling-style\" data-toc-modified-id=\"clean-batting-and-bowling-style-1.3\">clean batting and bowling style</a></span></li></ul></li></ul></div>"
   ]
  },
  {
   "cell_type": "code",
   "execution_count": 1,
   "id": "3ec392f9",
   "metadata": {},
   "outputs": [],
   "source": [
    "import pandas as pd\n",
    "import numpy as np\n",
    "import seaborn as sns"
   ]
  },
  {
   "cell_type": "code",
   "execution_count": 2,
   "id": "f37be294",
   "metadata": {},
   "outputs": [
    {
     "ename": "SyntaxError",
     "evalue": "unterminated string literal (detected at line 1) (2759343845.py, line 1)",
     "output_type": "error",
     "traceback": [
      "\u001b[1;36m  Cell \u001b[1;32mIn[2], line 1\u001b[1;36m\u001b[0m\n\u001b[1;33m    df = pd.read_csv('uncleaned_players_info.csv'.csv')\u001b[0m\n\u001b[1;37m                                                     ^\u001b[0m\n\u001b[1;31mSyntaxError\u001b[0m\u001b[1;31m:\u001b[0m unterminated string literal (detected at line 1)\n"
     ]
    }
   ],
   "source": [
    "df = pd.read_csv('uncleaned_players_info.csv'.csv')"
   ]
  },
  {
   "cell_type": "markdown",
   "id": "500641e0",
   "metadata": {},
   "source": [
    "## Data cleaning doc\n",
    "\n",
    "- `name` column : AB de Villiers† (unusual character in the end of name) `inaccurate`\n",
    "- `name` column : Shoaib Malik(vc) (extra character in name) `inaccurate`\n",
    "- `position` column : missing values `completenss`\n",
    "- `position` column : Bowling Allrounder (extra word Bowling or Batting) `inaccurate`\n",
    "- `batting_style` column : Batting:Right hand Bat (extra word 'Batting') `inaccurate`\n",
    "- `bowling_style` column : Bowling:Right arm Offbreak (extra word 'Bowling') `inaccurate`\n",
    "- `bowling_style` column : missing value `completeness`\n",
    "\n"
   ]
  },
  {
   "cell_type": "code",
   "execution_count": null,
   "id": "1b763a63",
   "metadata": {},
   "outputs": [],
   "source": [
    "df.shape"
   ]
  },
  {
   "cell_type": "code",
   "execution_count": null,
   "id": "7b7c5fb3",
   "metadata": {},
   "outputs": [],
   "source": [
    "df.sample(20)"
   ]
  },
  {
   "cell_type": "code",
   "execution_count": null,
   "id": "f5c04ac7",
   "metadata": {},
   "outputs": [],
   "source": [
    "df.info()"
   ]
  },
  {
   "cell_type": "markdown",
   "id": "ef7a9221",
   "metadata": {},
   "source": [
    "### clean names column\n",
    "- `name` column : AB de Villiers† (unusual character in the end of name) `inaccurate`"
   ]
  },
  {
   "cell_type": "code",
   "execution_count": null,
   "id": "f6d8a4b7",
   "metadata": {},
   "outputs": [],
   "source": [
    "df[df.names.str.contains('†')]"
   ]
  },
  {
   "cell_type": "code",
   "execution_count": null,
   "id": "a855c619",
   "metadata": {},
   "outputs": [],
   "source": [
    "df.names = df.names.str.replace('†','')"
   ]
  },
  {
   "cell_type": "code",
   "execution_count": null,
   "id": "acc8b6ba",
   "metadata": {},
   "outputs": [],
   "source": [
    "# Test\n",
    "df[df.names.str.contains('†')]"
   ]
  },
  {
   "cell_type": "markdown",
   "id": "cfd9193d",
   "metadata": {},
   "source": [
    "- `name` column : Shoaib Malik(vc) (extra character in name) `inaccurate`"
   ]
  },
  {
   "cell_type": "code",
   "execution_count": null,
   "id": "b6baa6d0",
   "metadata": {
    "scrolled": false
   },
   "outputs": [],
   "source": [
    "df[df.names.str.contains('\\(')]"
   ]
  },
  {
   "cell_type": "code",
   "execution_count": null,
   "id": "9b8c9721",
   "metadata": {},
   "outputs": [],
   "source": [
    "df.names = df.names.str.replace('(c)','')\n",
    "df.names = df.names.str.replace('(vc)','')"
   ]
  },
  {
   "cell_type": "code",
   "execution_count": null,
   "id": "9dff3b06",
   "metadata": {},
   "outputs": [],
   "source": [
    "# Test\n",
    "df[df.names.str.contains('\\(')]"
   ]
  },
  {
   "cell_type": "markdown",
   "id": "dd74a606",
   "metadata": {},
   "source": [
    "### clean position column\n",
    "\n",
    "- `position` column : missing values `completenss`"
   ]
  },
  {
   "cell_type": "code",
   "execution_count": null,
   "id": "bb02056a",
   "metadata": {},
   "outputs": [],
   "source": [
    "df.position.isnull().sum()"
   ]
  },
  {
   "cell_type": "code",
   "execution_count": null,
   "id": "95449085",
   "metadata": {},
   "outputs": [],
   "source": [
    "df[df.position.isnull()]"
   ]
  },
  {
   "cell_type": "code",
   "execution_count": null,
   "id": "53f5fadb",
   "metadata": {},
   "outputs": [],
   "source": [
    "# Manually to find each batter missing field\n",
    "\n",
    "p1 = ['Batter','Batter','Bowler','Batter','Batter','Batter','Bowler','Batter', 'Batter', 'Bowler',\n",
    "      'Wicketkeeper Batter','Bowler', 'Batter','Wicketkeeper Batter', 'Batter','Batter',\n",
    "      'All rounder','Bowler','Bowler','Bowler','Wicketkeeper Batter', 'Bowler', 'All rounder', 'Bowler','Bowler', 'All rounder',\n",
    "      'Bowler', 'Batter', 'Wicketkeeper Batter', 'Bowler']\n",
    "len(p1)"
   ]
  },
  {
   "cell_type": "code",
   "execution_count": null,
   "id": "0479c940",
   "metadata": {},
   "outputs": [],
   "source": [
    "df.position[df.position.isnull()] = p1"
   ]
  },
  {
   "cell_type": "code",
   "execution_count": null,
   "id": "273aaa05",
   "metadata": {},
   "outputs": [],
   "source": [
    "# Test\n",
    "\n",
    "df[df.position.isnull()]"
   ]
  },
  {
   "cell_type": "markdown",
   "id": "d88d32d6",
   "metadata": {},
   "source": [
    "- `position` column : Bowling Allrounder (extra word Bowling or Batting) `inaccurate`"
   ]
  },
  {
   "cell_type": "code",
   "execution_count": null,
   "id": "a013dbfb",
   "metadata": {},
   "outputs": [],
   "source": [
    "df[df.position.str.contains('All')]"
   ]
  },
  {
   "cell_type": "code",
   "execution_count": null,
   "id": "49d12435",
   "metadata": {},
   "outputs": [],
   "source": [
    "df.position = df.position.str.replace('Bowling','').str.strip()\n",
    "df.position = df.position.str.replace('Batting','').str.strip()"
   ]
  },
  {
   "cell_type": "code",
   "execution_count": null,
   "id": "6ffbb81d",
   "metadata": {},
   "outputs": [],
   "source": [
    "# Test\n",
    "\n",
    "df[df.position.str.contains('All')]"
   ]
  },
  {
   "cell_type": "markdown",
   "id": "14f49d20",
   "metadata": {},
   "source": [
    "### clean batting and bowling style\n",
    "\n",
    "- `batting_style` column : Batting:Right hand Bat (extra word 'Batting') `inaccurate`"
   ]
  },
  {
   "cell_type": "code",
   "execution_count": null,
   "id": "cd66b522",
   "metadata": {},
   "outputs": [],
   "source": [
    "df.sample(5)"
   ]
  },
  {
   "cell_type": "code",
   "execution_count": null,
   "id": "6c5b450d",
   "metadata": {},
   "outputs": [],
   "source": [
    "df.batting_style = df.batting_style.str.replace('Batting:','').str.strip()"
   ]
  },
  {
   "cell_type": "code",
   "execution_count": null,
   "id": "50588974",
   "metadata": {},
   "outputs": [],
   "source": [
    "# test\n",
    "\n",
    "df.sample(5)"
   ]
  },
  {
   "cell_type": "markdown",
   "id": "fcff8524",
   "metadata": {},
   "source": [
    "- `bowling_style` column : Bowling:Right arm Offbreak (extra word 'Bowling') `inaccurate`"
   ]
  },
  {
   "cell_type": "code",
   "execution_count": null,
   "id": "628a1f40",
   "metadata": {},
   "outputs": [],
   "source": [
    "df.bowling_style = df.bowling_style.str.replace('Bowling:','').str.strip()"
   ]
  },
  {
   "cell_type": "code",
   "execution_count": null,
   "id": "fa5a0ca3",
   "metadata": {},
   "outputs": [],
   "source": [
    "# test\n",
    "\n",
    "df.sample(5)"
   ]
  },
  {
   "cell_type": "markdown",
   "id": "8f2c3481",
   "metadata": {},
   "source": [
    "- `bowling_style` column : missing value `completeness`"
   ]
  },
  {
   "cell_type": "code",
   "execution_count": null,
   "id": "891aa30d",
   "metadata": {},
   "outputs": [],
   "source": [
    "df[df.bowling_style.isnull()]"
   ]
  },
  {
   "cell_type": "markdown",
   "id": "24dd5f77",
   "metadata": {},
   "source": [
    "All players who are batters don't ball"
   ]
  },
  {
   "cell_type": "code",
   "execution_count": null,
   "id": "cba6ccf0",
   "metadata": {},
   "outputs": [],
   "source": [
    "df.to_csv('Players_info.csv', index=False)"
   ]
  }
 ],
 "metadata": {
  "kernelspec": {
   "display_name": "Python 3 (ipykernel)",
   "language": "python",
   "name": "python3"
  },
  "language_info": {
   "codemirror_mode": {
    "name": "ipython",
    "version": 3
   },
   "file_extension": ".py",
   "mimetype": "text/x-python",
   "name": "python",
   "nbconvert_exporter": "python",
   "pygments_lexer": "ipython3",
   "version": "3.11.7"
  },
  "toc": {
   "base_numbering": 1,
   "nav_menu": {},
   "number_sections": false,
   "sideBar": true,
   "skip_h1_title": true,
   "title_cell": "Table of Contents",
   "title_sidebar": "Contents",
   "toc_cell": true,
   "toc_position": {},
   "toc_section_display": true,
   "toc_window_display": true
  }
 },
 "nbformat": 4,
 "nbformat_minor": 5
}
