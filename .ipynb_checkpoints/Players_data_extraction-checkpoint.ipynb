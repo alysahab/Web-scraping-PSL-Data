{
 "cells": [
  {
   "cell_type": "markdown",
   "id": "1f8448e8",
   "metadata": {
    "toc": true
   },
   "source": [
    "<h1>Table of Contents<span class=\"tocSkip\"></span></h1>\n",
    "<div class=\"toc\"><ul class=\"toc-item\"></ul></div>"
   ]
  },
  {
   "cell_type": "code",
   "execution_count": 1,
   "id": "d1498ecf",
   "metadata": {},
   "outputs": [],
   "source": [
    "import pandas as pd\n",
    "import numpy as np\n",
    "from bs4 import BeautifulSoup"
   ]
  },
  {
   "cell_type": "code",
   "execution_count": 15,
   "id": "6c8dac79",
   "metadata": {},
   "outputs": [],
   "source": [
    "with open('Players_info.html','r') as f:\n",
    "    html = f.read()"
   ]
  },
  {
   "cell_type": "code",
   "execution_count": 16,
   "id": "c0a1c50e",
   "metadata": {},
   "outputs": [],
   "source": [
    "soup = BeautifulSoup(html, 'html.parser')"
   ]
  },
  {
   "cell_type": "code",
   "execution_count": 109,
   "id": "3dd72dc1",
   "metadata": {},
   "outputs": [],
   "source": [
    "name_tag = soup.find_all('div', class_= 'ds-flex ds-space-x-2')\n",
    "position_tag = soup.find_all('p', class_= 'ds-text-tight-s ds-font-regular ds-mb-2 ds-mt-1')\n",
    "style_tag = soup.find_all('div', class_ = 'ds-justify-between ds-text-typo-mid3')\n",
    "\n",
    "\n",
    "n = len(name_tag)\n",
    "names = []\n",
    "position = []\n",
    "batting_style = []\n",
    "bowling_style = []\n",
    "\n",
    "for i in range(n):\n",
    "    if name_tag[i].text not in names:\n",
    "        names.append(name_tag[i].text)\n",
    "        position.append(position_tag[i].text)\n",
    "        batting_style.append(style_tag[i].find_all('div')[1].text)\n",
    "        try:\n",
    "            bowling_style.append(style_tag[i].find_all('div')[2].text)\n",
    "        except:\n",
    "            bowling_style.append(np.nan)\n",
    "        \n",
    "\n",
    "    "
   ]
  },
  {
   "cell_type": "code",
   "execution_count": null,
   "id": "90dcec03",
   "metadata": {},
   "outputs": [],
   "source": []
  },
  {
   "cell_type": "code",
   "execution_count": 110,
   "id": "4d45c79a",
   "metadata": {},
   "outputs": [],
   "source": [
    "df = pd.DataFrame({'names':names,'position':position,'batting_style':batting_style, 'bowling_style':bowling_style})"
   ]
  }
 ],
 "metadata": {
  "kernelspec": {
   "display_name": "Python 3 (ipykernel)",
   "language": "python",
   "name": "python3"
  },
  "language_info": {
   "codemirror_mode": {
    "name": "ipython",
    "version": 3
   },
   "file_extension": ".py",
   "mimetype": "text/x-python",
   "name": "python",
   "nbconvert_exporter": "python",
   "pygments_lexer": "ipython3",
   "version": "3.11.7"
  },
  "toc": {
   "base_numbering": 1,
   "nav_menu": {},
   "number_sections": false,
   "sideBar": true,
   "skip_h1_title": true,
   "title_cell": "Table of Contents",
   "title_sidebar": "Contents",
   "toc_cell": true,
   "toc_position": {},
   "toc_section_display": true,
   "toc_window_display": true
  }
 },
 "nbformat": 4,
 "nbformat_minor": 5
}
